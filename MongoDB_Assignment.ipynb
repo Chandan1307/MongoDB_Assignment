{
 "cells": [
  {
   "cell_type": "markdown",
   "id": "40f4f6f0-254f-462c-a4c0-140aacd53293",
   "metadata": {},
   "source": [
    "Q1. What is MongoDB? Explain non-relational databases in short. In which scenarios it is preferred to use\n",
    "MongoDB over SQL databases?"
   ]
  },
  {
   "cell_type": "markdown",
   "id": "5f2aec42-22f3-4ba7-9c4c-3e9e2a488bf4",
   "metadata": {},
   "source": [
    "MongoDB is a popular document-oriented NoSQL database that allows for flexible and scalable data storage. Unlike traditional SQL databases, MongoDB stores data in collections of documents that are JSON-like objects with flexible schemas.\n",
    "\n",
    "Non-relational databases, also known as NoSQL databases, are databases that do not use the traditional relational model for storing data. Instead, they use a variety of models, such as key-value, document, graph, and column-family, to store and access data.\n",
    "\n",
    "MongoDB is preferred over SQL databases in scenarios where data is unstructured, rapidly changing, or too large to fit into a single table. For example, MongoDB is a good choice for social media applications, content management systems, and real-time analytics. MongoDB's flexible schema allows for easy updates and modifications to the database structure without needing to make changes to the entire schema. Additionally, MongoDB's ability to shard, or distribute data across multiple machines, allows for scalability as the amount of data stored in the database grows.\n",
    "\n",
    "Overall, MongoDB is a powerful tool for developers looking to build applications that require flexible and scalable data storage, while also allowing for quick and easy development and deployment.\n"
   ]
  },
  {
   "cell_type": "markdown",
   "id": "0ded5695-7cc7-4ec0-950e-1487f732049d",
   "metadata": {},
   "source": [
    "Q2. State and Explain the features of MongoDB."
   ]
  },
  {
   "cell_type": "markdown",
   "id": "c9d79986-7b78-4b48-8a73-1d155388bfc9",
   "metadata": {},
   "source": [
    "MongoDB is a popular NoSQL document-oriented database that offers a number of features that make it a great choice for developers. Here are some of its key features:\n",
    "\n",
    "Document-oriented: MongoDB stores data in collections of documents, which are JSON-like objects that can have flexible schemas. This makes it easy to store and retrieve data without needing to worry about defining a fixed table schema.\n",
    "\n",
    "Scalability: MongoDB is designed to be scalable, both horizontally and vertically. This means that it can easily handle large amounts of data and can scale up or down as needed by adding or removing servers.\n",
    "\n",
    "High availability: MongoDB uses replication to ensure high availability of data. Data is replicated across multiple servers, so if one server goes down, the data can still be accessed from other servers.\n",
    "\n",
    "Flexibility: MongoDB has a flexible data model that allows for easy changes to the schema. This makes it easy to add new fields, modify existing fields, or change the structure of the data without needing to update the entire schema.\n",
    "\n",
    "Querying: MongoDB supports a powerful query language that allows for complex queries across multiple collections. This makes it easy to retrieve data in the format that is needed for the application.\n",
    "\n",
    "Indexing: MongoDB supports indexing, which can improve query performance by allowing for faster retrieval of data. MongoDB supports a variety of index types, including single field, compound, text, and geospatial indexes.\n",
    "\n",
    "Aggregation: MongoDB provides a powerful aggregation framework that allows for advanced data processing and analysis. This allows for complex queries that can aggregate, group, and transform data in a variety of ways.\n"
   ]
  },
  {
   "cell_type": "markdown",
   "id": "801e19d2-8ac2-4cb7-a298-6f6a5753e3f5",
   "metadata": {},
   "source": [
    "Q3. Write a code to connect MongoDB to Python. Also, create a database and a collection in MongoDB."
   ]
  },
  {
   "cell_type": "code",
   "execution_count": 1,
   "id": "4f4993fb-f71b-4815-99e0-8e6e4e6df23c",
   "metadata": {},
   "outputs": [
    {
     "ename": "ModuleNotFoundError",
     "evalue": "No module named 'pymongo'",
     "output_type": "error",
     "traceback": [
      "\u001b[0;31m---------------------------------------------------------------------------\u001b[0m",
      "\u001b[0;31mModuleNotFoundError\u001b[0m                       Traceback (most recent call last)",
      "Cell \u001b[0;32mIn[1], line 1\u001b[0m\n\u001b[0;32m----> 1\u001b[0m \u001b[38;5;28;01mimport\u001b[39;00m \u001b[38;5;21;01mpymongo\u001b[39;00m\n\u001b[1;32m      3\u001b[0m \u001b[38;5;66;03m# Connect to MongoDB\u001b[39;00m\n\u001b[1;32m      4\u001b[0m client \u001b[38;5;241m=\u001b[39m pymongo\u001b[38;5;241m.\u001b[39mMongoClient(\u001b[38;5;124m\"\u001b[39m\u001b[38;5;124mmongodb://localhost:27017/\u001b[39m\u001b[38;5;124m\"\u001b[39m)\n",
      "\u001b[0;31mModuleNotFoundError\u001b[0m: No module named 'pymongo'"
     ]
    }
   ],
   "source": [
    "import pymongo\n",
    "\n",
    "# Connect to MongoDB\n",
    "client = pymongo.MongoClient(\"mongodb://localhost:27017/\")\n",
    "\n",
    "# Create a database\n",
    "mydb = client[\"mydatabase\"]\n",
    "\n",
    "# Create a collection\n",
    "mycol = mydb[\"customers\"]\n",
    "\n",
    "# Insert a document into the collection\n",
    "mydict = { \"name\": \"Chandan\", \"address\": \"New Delhi\" }\n",
    "x = mycol.insert_one(mydict)\n",
    "\n",
    "# Print the ID of the inserted document\n",
    "print(x.inserted_id)\n"
   ]
  },
  {
   "cell_type": "markdown",
   "id": "abde95c8-77f7-4bb7-bf15-3b13374fb235",
   "metadata": {},
   "source": [
    "In this code, we first import the pymongo module and then connect to MongoDB using the MongoClient class. We specify the URI to connect to MongoDB, which in this case is the default URI mongodb://localhost:27017/.\n",
    "\n",
    "Next, we create a new database called mydatabase using the client object. We then create a collection called customers within the mydatabase database using the mydb object.\n",
    "\n",
    "Finally, we insert a document into the customers collection using the insert_one() method. The inserted document is a Python dictionary that contains two fields: name and address. We then print the ID of the inserted document using the inserted_id property of the x object."
   ]
  },
  {
   "cell_type": "markdown",
   "id": "c99f211e-7000-4d2b-80ab-de2fff8d81c2",
   "metadata": {},
   "source": [
    "Q4. Using the database and the collection created in question number 3, write a code to insert one record,\n",
    "and insert many records. Use the find() and find_one() methods to print the inserted record."
   ]
  },
  {
   "cell_type": "code",
   "execution_count": 2,
   "id": "2a015445-1c8d-4aa3-a1f4-a0133918ba6d",
   "metadata": {},
   "outputs": [
    {
     "ename": "ModuleNotFoundError",
     "evalue": "No module named 'pymongo'",
     "output_type": "error",
     "traceback": [
      "\u001b[0;31m---------------------------------------------------------------------------\u001b[0m",
      "\u001b[0;31mModuleNotFoundError\u001b[0m                       Traceback (most recent call last)",
      "Cell \u001b[0;32mIn[2], line 1\u001b[0m\n\u001b[0;32m----> 1\u001b[0m \u001b[38;5;28;01mimport\u001b[39;00m \u001b[38;5;21;01mpymongo\u001b[39;00m\n\u001b[1;32m      3\u001b[0m \u001b[38;5;66;03m# Connect to MongoDB\u001b[39;00m\n\u001b[1;32m      4\u001b[0m client \u001b[38;5;241m=\u001b[39m pymongo\u001b[38;5;241m.\u001b[39mMongoClient(\u001b[38;5;124m\"\u001b[39m\u001b[38;5;124mmongodb://localhost:27017/\u001b[39m\u001b[38;5;124m\"\u001b[39m)\n",
      "\u001b[0;31mModuleNotFoundError\u001b[0m: No module named 'pymongo'"
     ]
    }
   ],
   "source": [
    "import pymongo\n",
    "\n",
    "# Connect to MongoDB\n",
    "client = pymongo.MongoClient(\"mongodb://localhost:27017/\")\n",
    "\n",
    "# Select the database and collection\n",
    "mydb = client[\"mydatabase\"]\n",
    "mycol = mydb[\"customers\"]\n",
    "\n",
    "# Insert one record\n",
    "mydict = { \"name\": \"Chandan\", \"address\": \"New Delhi\" }\n",
    "x = mycol.insert_one(mydict)\n",
    "\n",
    "# Insert many records\n",
    "mylist = [\n",
    "  { \"name\": \"Ravinder\", \"address\": \"New Delhi\" },\n",
    "  { \"name\": \"Aayush\", \"address\": \"Noida\" },\n",
    "  { \"name\": \"Ankit\", \"address\": \"Gurgaon\" }\n",
    "]\n",
    "x = mycol.insert_many(mylist)\n",
    "\n",
    "# Print the inserted records using find_one()\n",
    "print(mycol.find_one({ \"name\": \"Ravinder\" }))\n",
    "print(mycol.find_one({ \"name\": \"Aayush\" }))\n",
    "\n",
    "# Print all inserted records using find()\n",
    "for record in mycol.find():\n",
    "    print(record)\n"
   ]
  },
  {
   "cell_type": "markdown",
   "id": "3fd6c44e-0c33-49da-a1fc-7cff5e19d4aa",
   "metadata": {},
   "source": [
    "Q5. Explain how you can use the find() method to query the MongoDB database. Write a simple code to\n",
    "demonstrate this."
   ]
  },
  {
   "cell_type": "markdown",
   "id": "674a6d31-9b0d-4182-86a7-4c30824d1a35",
   "metadata": {},
   "source": [
    "The find() method is used to query a MongoDB database collection and returns a cursor object that can be used to iterate over the matching documents. The find() method takes an optional query object as a parameter that specifies the criteria for selecting documents from the collection. If no query object is passed, all documents in the collection will be returned.\n",
    "\n",
    "The query object is a dictionary containing one or more key-value pairs that define the selection criteria. The keys in the query object correspond to the fields in the collection, and the values specify the values to match. MongoDB supports a wide range of query operators that can be used to perform complex queries, such as $gt for greater than, $lt for less than, $in for matching any of a set of values, etc."
   ]
  },
  {
   "cell_type": "code",
   "execution_count": 3,
   "id": "60ed14de-1f21-4cf5-bc37-c4ab7545f42a",
   "metadata": {},
   "outputs": [
    {
     "ename": "ModuleNotFoundError",
     "evalue": "No module named 'pymongo'",
     "output_type": "error",
     "traceback": [
      "\u001b[0;31m---------------------------------------------------------------------------\u001b[0m",
      "\u001b[0;31mModuleNotFoundError\u001b[0m                       Traceback (most recent call last)",
      "Cell \u001b[0;32mIn[3], line 1\u001b[0m\n\u001b[0;32m----> 1\u001b[0m \u001b[38;5;28;01mimport\u001b[39;00m \u001b[38;5;21;01mpymongo\u001b[39;00m\n\u001b[1;32m      3\u001b[0m \u001b[38;5;66;03m# Connect to MongoDB\u001b[39;00m\n\u001b[1;32m      4\u001b[0m client \u001b[38;5;241m=\u001b[39m pymongo\u001b[38;5;241m.\u001b[39mMongoClient(\u001b[38;5;124m\"\u001b[39m\u001b[38;5;124mmongodb://localhost:27017/\u001b[39m\u001b[38;5;124m\"\u001b[39m)\n",
      "\u001b[0;31mModuleNotFoundError\u001b[0m: No module named 'pymongo'"
     ]
    }
   ],
   "source": [
    "import pymongo\n",
    "\n",
    "# Connect to MongoDB\n",
    "client = pymongo.MongoClient(\"mongodb://localhost:27017/\")\n",
    "\n",
    "# Select the database and collection\n",
    "mydb = client[\"mydatabase\"]\n",
    "mycol = mydb[\"customers\"]\n",
    "\n",
    "# Query the collection using find()\n",
    "myquery = { \"address\": \"New Delhi\" }\n",
    "mydocs = mycol.find(myquery)\n",
    "\n",
    "# Iterate over the matching documents\n",
    "for doc in mydocs:\n",
    "    print(doc)\n"
   ]
  },
  {
   "cell_type": "markdown",
   "id": "eb792124-bde7-4f3e-8528-09bba991ff1a",
   "metadata": {},
   "source": [
    "Q6. Explain the sort() method. Give an example to demonstrate sorting in MongoDB."
   ]
  },
  {
   "cell_type": "markdown",
   "id": "5f6cbff9-97a0-4049-81cb-a14d137e79b3",
   "metadata": {},
   "source": [
    "The sort() method is used to sort the documents returned by a MongoDB query in ascending or descending order based on one or more fields. The sort() method takes a dictionary object as a parameter that specifies the field(s) to sort by and the sorting order. The keys in the dictionary correspond to the field(s) to sort by, and the values are either pymongo.ASCENDING (for ascending order) or pymongo.DESCENDING (for descending order).\n",
    "\n",
    "Here's an example code that demonstrates how to use the sort() method to sort the documents in the customers collection in the mydatabase database by the name field in ascending order:"
   ]
  },
  {
   "cell_type": "code",
   "execution_count": 4,
   "id": "9cf18e35-7444-4ba0-9e38-222e0527c52a",
   "metadata": {},
   "outputs": [
    {
     "ename": "ModuleNotFoundError",
     "evalue": "No module named 'pymongo'",
     "output_type": "error",
     "traceback": [
      "\u001b[0;31m---------------------------------------------------------------------------\u001b[0m",
      "\u001b[0;31mModuleNotFoundError\u001b[0m                       Traceback (most recent call last)",
      "Cell \u001b[0;32mIn[4], line 1\u001b[0m\n\u001b[0;32m----> 1\u001b[0m \u001b[38;5;28;01mimport\u001b[39;00m \u001b[38;5;21;01mpymongo\u001b[39;00m\n\u001b[1;32m      3\u001b[0m \u001b[38;5;66;03m# Connect to MongoDB\u001b[39;00m\n\u001b[1;32m      4\u001b[0m client \u001b[38;5;241m=\u001b[39m pymongo\u001b[38;5;241m.\u001b[39mMongoClient(\u001b[38;5;124m\"\u001b[39m\u001b[38;5;124mmongodb://localhost:27017/\u001b[39m\u001b[38;5;124m\"\u001b[39m)\n",
      "\u001b[0;31mModuleNotFoundError\u001b[0m: No module named 'pymongo'"
     ]
    }
   ],
   "source": [
    "import pymongo\n",
    "\n",
    "# Connect to MongoDB\n",
    "client = pymongo.MongoClient(\"mongodb://localhost:27017/\")\n",
    "\n",
    "# Select the database and collection\n",
    "mydb = client[\"mydatabase\"]\n",
    "mycol = mydb[\"customers\"]\n",
    "\n",
    "# Sort the documents using sort()\n",
    "mydocs = mycol.find().sort(\"name\", pymongo.ASCENDING)\n",
    "\n",
    "# Print the sorted documents\n",
    "for doc in mydocs:\n",
    "    print(doc)"
   ]
  },
  {
   "cell_type": "markdown",
   "id": "8ddf345c-d8f2-4487-8ffa-01e05ae90061",
   "metadata": {},
   "source": [
    "Q7. Explain why delete_one(), delete_many(), and drop() is used."
   ]
  },
  {
   "cell_type": "markdown",
   "id": "2e99f287-40cb-472c-bd7f-dc15b83b66c4",
   "metadata": {},
   "source": [
    "In MongoDB, delete_one(), delete_many(), and drop() are used for deleting documents and collections.\n",
    "\n",
    "The delete_one() method is used to delete a single document that matches a specified filter. If multiple documents match the filter, only the first matching document will be deleted. The delete_one() method takes a dictionary object as a parameter that specifies the filter criteria.\n",
    "\n",
    "The delete_many() method is used to delete all documents that match a specified filter. The delete_many() method takes a dictionary object as a parameter that specifies the filter criteria.\n",
    "\n",
    "The drop() method is used to drop an entire collection from the database. This method does not take any parameters and simply deletes the entire collection, including all its documents.\n",
    "\n",
    "These methods are useful for managing data in a MongoDB database. delete_one() and delete_many() are useful for deleting specific documents or groups of documents that match a particular filter. drop() is useful for deleting an entire collection when it is no longer needed.\n",
    "\n",
    "It is important to note that these methods are permanent and irreversible, so they should be used with caution. Before using any of these methods, it is recommended to make sure that the correct documents or collections are being targeted for deletion."
   ]
  }
 ],
 "metadata": {
  "kernelspec": {
   "display_name": "Python 3 (ipykernel)",
   "language": "python",
   "name": "python3"
  },
  "language_info": {
   "codemirror_mode": {
    "name": "ipython",
    "version": 3
   },
   "file_extension": ".py",
   "mimetype": "text/x-python",
   "name": "python",
   "nbconvert_exporter": "python",
   "pygments_lexer": "ipython3",
   "version": "3.10.8"
  }
 },
 "nbformat": 4,
 "nbformat_minor": 5
}
